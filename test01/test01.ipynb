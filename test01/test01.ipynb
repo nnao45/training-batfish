{
 "cells": [
  {
   "cell_type": "code",
   "execution_count": 1,
   "metadata": {},
   "outputs": [
    {
     "name": "stdout",
     "output_type": "stream",
     "text": [
      "Batfish container is already running.\n"
     ]
    }
   ],
   "source": [
    "%%bash\n",
    "if (docker ps -f \"ancestor=batfish/batfish\" | grep \"0.0.0.0:9996-9997\" > /dev/null); then\n",
    "  echo \"Batfish container is already running.\"\n",
    "else\n",
    "  docker run -d -p 9997:9997 -p 9996:9996 batfish/batfish\n",
    "fi"
   ]
  },
  {
   "cell_type": "code",
   "execution_count": 2,
   "metadata": {},
   "outputs": [
    {
     "name": "stderr",
     "output_type": "stream",
     "text": [
      "/Users/nnao45/Library/Python/3.7/lib/python/site-packages/pybatfish/client/commands.py:50: UserWarning: Pybatfish public API is being updated, note that API names and parameters will soon change.\n",
      "  \"Pybatfish public API is being updated, note that API names and parameters will soon change.\")\n"
     ]
    }
   ],
   "source": [
    "%run startup.py"
   ]
  },
  {
   "cell_type": "code",
   "execution_count": 3,
   "metadata": {},
   "outputs": [
    {
     "name": "stderr",
     "output_type": "stream",
     "text": [
      "status: TRYINGTOASSIGN\n",
      ".... no task information\n",
      "status: ASSIGNED\n",
      ".... Sat Oct 27 14:17:09 2018 JST Parse configurations 0 / 2\n",
      "status: ASSIGNED\n",
      ".... Sat Oct 27 14:17:09 2018 JST Parse configurations 0 / 2\n",
      "status: ASSIGNED\n",
      ".... Sat Oct 27 14:17:09 2018 JST Parse configurations 0 / 2\n",
      "status: ASSIGNED\n",
      ".... Sat Oct 27 14:17:09 2018 JST Parse configurations 0 / 2\n",
      "status: ASSIGNED\n",
      ".... Sat Oct 27 14:17:09 2018 JST Parse configurations 0 / 2\n",
      "status: ASSIGNED\n",
      ".... Sat Oct 27 14:17:09 2018 JST Deserializing objects of type 'org.batfish.datamodel.Configuration' from files 2 / 2\n",
      "status: TERMINATEDNORMALLY\n",
      ".... Sat Oct 27 14:17:09 2018 JST Deserializing objects of type 'org.batfish.datamodel.Configuration' from files 2 / 2\n",
      "Default snapshot is now set to example_snapshot\n"
     ]
    },
    {
     "data": {
      "text/plain": [
       "'example_snapshot'"
      ]
     },
     "execution_count": 3,
     "metadata": {},
     "output_type": "execute_result"
    }
   ],
   "source": [
    "NETWORK_NAME = \"example_network\"\n",
    "SNAPSHOT_NAME = \"example_snapshot\"\n",
    "SNAPSHOT_PATH = \"network/\"\n",
    "\n",
    "bf_set_network(NETWORK_NAME)\n",
    "bf_init_snapshot(SNAPSHOT_PATH, name=SNAPSHOT_NAME, overwrite=True)"
   ]
  },
  {
   "cell_type": "code",
   "execution_count": 4,
   "metadata": {},
   "outputs": [
    {
     "name": "stderr",
     "output_type": "stream",
     "text": [
      "status: TRYINGTOASSIGN\n",
      ".... no task information\n",
      "status: ASSIGNED\n",
      ".... Sat Oct 27 14:17:21 2018 JST Begin job\n",
      "status: TERMINATEDNORMALLY\n",
      ".... Sat Oct 27 14:17:21 2018 JST Begin job\n"
     ]
    },
    {
     "data": {
      "text/html": [
       "<div>\n",
       "<style scoped>\n",
       "    .dataframe tbody tr th:only-of-type {\n",
       "        vertical-align: middle;\n",
       "    }\n",
       "\n",
       "    .dataframe tbody tr th {\n",
       "        vertical-align: top;\n",
       "    }\n",
       "\n",
       "    .dataframe thead th {\n",
       "        text-align: right;\n",
       "    }\n",
       "</style>\n",
       "<table border=\"1\" class=\"dataframe\">\n",
       "  <thead>\n",
       "    <tr style=\"text-align: right;\">\n",
       "      <th></th>\n",
       "      <th>Node</th>\n",
       "      <th>VRF</th>\n",
       "      <th>Interface</th>\n",
       "      <th>IP</th>\n",
       "      <th>Mask</th>\n",
       "      <th>Active</th>\n",
       "    </tr>\n",
       "  </thead>\n",
       "  <tbody>\n",
       "    <tr>\n",
       "      <th>0</th>\n",
       "      <td>dev-test-sw01</td>\n",
       "      <td>default</td>\n",
       "      <td>GigabitEthernet0/0</td>\n",
       "      <td>10.0.0.1</td>\n",
       "      <td>30</td>\n",
       "      <td>True</td>\n",
       "    </tr>\n",
       "    <tr>\n",
       "      <th>1</th>\n",
       "      <td>dev-test-sw01</td>\n",
       "      <td>default</td>\n",
       "      <td>GigabitEthernet2/0</td>\n",
       "      <td>10.0.2.1</td>\n",
       "      <td>30</td>\n",
       "      <td>True</td>\n",
       "    </tr>\n",
       "    <tr>\n",
       "      <th>2</th>\n",
       "      <td>dev-test-sw01</td>\n",
       "      <td>default</td>\n",
       "      <td>GigabitEthernet1/0</td>\n",
       "      <td>10.0.1.1</td>\n",
       "      <td>30</td>\n",
       "      <td>True</td>\n",
       "    </tr>\n",
       "    <tr>\n",
       "      <th>3</th>\n",
       "      <td>dev-test-sw01</td>\n",
       "      <td>default</td>\n",
       "      <td>Loopback0</td>\n",
       "      <td>192.168.0.1</td>\n",
       "      <td>32</td>\n",
       "      <td>True</td>\n",
       "    </tr>\n",
       "    <tr>\n",
       "      <th>4</th>\n",
       "      <td>dev-test-sw02</td>\n",
       "      <td>default</td>\n",
       "      <td>GigabitEthernet1/0</td>\n",
       "      <td>10.0.1.2</td>\n",
       "      <td>30</td>\n",
       "      <td>True</td>\n",
       "    </tr>\n",
       "    <tr>\n",
       "      <th>5</th>\n",
       "      <td>dev-test-sw02</td>\n",
       "      <td>default</td>\n",
       "      <td>Loopback0</td>\n",
       "      <td>192.168.0.2</td>\n",
       "      <td>32</td>\n",
       "      <td>True</td>\n",
       "    </tr>\n",
       "    <tr>\n",
       "      <th>6</th>\n",
       "      <td>dev-test-sw02</td>\n",
       "      <td>default</td>\n",
       "      <td>GigabitEthernet0/0</td>\n",
       "      <td>10.0.0.2</td>\n",
       "      <td>30</td>\n",
       "      <td>True</td>\n",
       "    </tr>\n",
       "    <tr>\n",
       "      <th>7</th>\n",
       "      <td>dev-test-sw02</td>\n",
       "      <td>default</td>\n",
       "      <td>GigabitEthernet2/0</td>\n",
       "      <td>10.0.2.2</td>\n",
       "      <td>30</td>\n",
       "      <td>True</td>\n",
       "    </tr>\n",
       "  </tbody>\n",
       "</table>\n",
       "</div>"
      ],
      "text/plain": [
       "            Node      VRF           Interface           IP  Mask  Active\n",
       "0  dev-test-sw01  default  GigabitEthernet0/0     10.0.0.1    30    True\n",
       "1  dev-test-sw01  default  GigabitEthernet2/0     10.0.2.1    30    True\n",
       "2  dev-test-sw01  default  GigabitEthernet1/0     10.0.1.1    30    True\n",
       "3  dev-test-sw01  default           Loopback0  192.168.0.1    32    True\n",
       "4  dev-test-sw02  default  GigabitEthernet1/0     10.0.1.2    30    True\n",
       "5  dev-test-sw02  default           Loopback0  192.168.0.2    32    True\n",
       "6  dev-test-sw02  default  GigabitEthernet0/0     10.0.0.2    30    True\n",
       "7  dev-test-sw02  default  GigabitEthernet2/0     10.0.2.2    30    True"
      ]
     },
     "execution_count": 4,
     "metadata": {},
     "output_type": "execute_result"
    }
   ],
   "source": [
    "ip_owners_ans = bfq.ipOwners().answer()\n",
    "ip_owners_ans.frame()"
   ]
  },
  {
   "cell_type": "code",
   "execution_count": null,
   "metadata": {},
   "outputs": [],
   "source": []
  }
 ],
 "metadata": {
  "kernelspec": {
   "display_name": "Python 3",
   "language": "python",
   "name": "python3"
  },
  "language_info": {
   "codemirror_mode": {
    "name": "ipython",
    "version": 3
   },
   "file_extension": ".py",
   "mimetype": "text/x-python",
   "name": "python",
   "nbconvert_exporter": "python",
   "pygments_lexer": "ipython3",
   "version": "3.7.0"
  }
 },
 "nbformat": 4,
 "nbformat_minor": 2
}
