{
 "cells": [
  {
   "cell_type": "code",
   "execution_count": 17,
   "metadata": {},
   "outputs": [
    {
     "name": "stdout",
     "output_type": "stream",
     "text": [
      "Batfish container is already running.\n"
     ]
    }
   ],
   "source": [
    "%%bash\n",
    "if (docker ps -f \"ancestor=batfish/batfish\" | grep \"0.0.0.0:9996-9997\" > /dev/null); then\n",
    "  echo \"Batfish container is already running.\"\n",
    "else\n",
    "  docker run -d -p 9997:9997 -p 9996:9996 batfish/batfish\n",
    "fi"
   ]
  },
  {
   "cell_type": "code",
   "execution_count": 18,
   "metadata": {},
   "outputs": [],
   "source": [
    "%run startup.py"
   ]
  },
  {
   "cell_type": "code",
   "execution_count": 19,
   "metadata": {},
   "outputs": [
    {
     "ename": "BatfishException",
     "evalue": "Initializing snapshot example_snapshot failed with status TERMINATEDABNORMALLY",
     "output_type": "error",
     "traceback": [
      "\u001b[0;31m---------------------------------------------------------------------------\u001b[0m",
      "\u001b[0;31mBatfishException\u001b[0m                          Traceback (most recent call last)",
      "\u001b[0;32m<ipython-input-19-0b3bb4571abe>\u001b[0m in \u001b[0;36m<module>\u001b[0;34m\u001b[0m\n\u001b[1;32m      4\u001b[0m \u001b[0;34m\u001b[0m\u001b[0m\n\u001b[1;32m      5\u001b[0m \u001b[0mbf_set_network\u001b[0m\u001b[0;34m(\u001b[0m\u001b[0mNETWORK_NAME\u001b[0m\u001b[0;34m)\u001b[0m\u001b[0;34m\u001b[0m\u001b[0m\n\u001b[0;32m----> 6\u001b[0;31m \u001b[0mbf_init_snapshot\u001b[0m\u001b[0;34m(\u001b[0m\u001b[0mSNAPSHOT_PATH\u001b[0m\u001b[0;34m,\u001b[0m \u001b[0mname\u001b[0m\u001b[0;34m=\u001b[0m\u001b[0mSNAPSHOT_NAME\u001b[0m\u001b[0;34m,\u001b[0m \u001b[0moverwrite\u001b[0m\u001b[0;34m=\u001b[0m\u001b[0;32mTrue\u001b[0m\u001b[0;34m)\u001b[0m\u001b[0;34m\u001b[0m\u001b[0m\n\u001b[0m",
      "\u001b[0;32m~/Library/Python/3.7/lib/python/site-packages/pybatfish/client/commands.py\u001b[0m in \u001b[0;36mbf_init_snapshot\u001b[0;34m(upload, name, overwrite, background)\u001b[0m\n\u001b[1;32m    687\u001b[0m             'Initializing snapshot {ss} failed with status {status}'.format(\n\u001b[1;32m    688\u001b[0m                 \u001b[0mss\u001b[0m\u001b[0;34m=\u001b[0m\u001b[0mname\u001b[0m\u001b[0;34m,\u001b[0m\u001b[0;34m\u001b[0m\u001b[0m\n\u001b[0;32m--> 689\u001b[0;31m                 status=status))\n\u001b[0m\u001b[1;32m    690\u001b[0m     \u001b[0;32melse\u001b[0m\u001b[0;34m:\u001b[0m\u001b[0;34m\u001b[0m\u001b[0m\n\u001b[1;32m    691\u001b[0m         \u001b[0mbf_session\u001b[0m\u001b[0;34m.\u001b[0m\u001b[0mbaseSnapshot\u001b[0m \u001b[0;34m=\u001b[0m \u001b[0mname\u001b[0m\u001b[0;34m\u001b[0m\u001b[0m\n",
      "\u001b[0;31mBatfishException\u001b[0m: Initializing snapshot example_snapshot failed with status TERMINATEDABNORMALLY"
     ]
    }
   ],
   "source": [
    "NETWORK_NAME = \"example_network\"\n",
    "SNAPSHOT_NAME = \"example_snapshot\"\n",
    "SNAPSHOT_PATH = \"network/\"\n",
    "\n",
    "bf_set_network(NETWORK_NAME)\n",
    "bf_init_snapshot(SNAPSHOT_PATH, name=SNAPSHOT_NAME, overwrite=True)"
   ]
  },
  {
   "cell_type": "code",
   "execution_count": 20,
   "metadata": {},
   "outputs": [
    {
     "ename": "BatfishException",
     "evalue": "Coordinator returned failure: Failed to queue work: Cannot queue parsing dependent work for 34a5fe56-1af6-4074-9a61-82eac77f060e: Status is PARSING_FAIL but no incomplete parsing work exists",
     "output_type": "error",
     "traceback": [
      "\u001b[0;31m---------------------------------------------------------------------------\u001b[0m",
      "\u001b[0;31mBatfishException\u001b[0m                          Traceback (most recent call last)",
      "\u001b[0;32m<ipython-input-20-af2647e34067>\u001b[0m in \u001b[0;36m<module>\u001b[0;34m\u001b[0m\n\u001b[0;32m----> 1\u001b[0;31m \u001b[0mip_owners_ans\u001b[0m \u001b[0;34m=\u001b[0m \u001b[0mbfq\u001b[0m\u001b[0;34m.\u001b[0m\u001b[0mipOwners\u001b[0m\u001b[0;34m(\u001b[0m\u001b[0;34m)\u001b[0m\u001b[0;34m.\u001b[0m\u001b[0manswer\u001b[0m\u001b[0;34m(\u001b[0m\u001b[0;34m)\u001b[0m\u001b[0;34m\u001b[0m\u001b[0m\n\u001b[0m\u001b[1;32m      2\u001b[0m \u001b[0mip_owners_ans\u001b[0m\u001b[0;34m.\u001b[0m\u001b[0mframe\u001b[0m\u001b[0;34m(\u001b[0m\u001b[0;34m)\u001b[0m\u001b[0;34m\u001b[0m\u001b[0m\n",
      "\u001b[0;32m~/Library/Python/3.7/lib/python/site-packages/pybatfish/question/question.py\u001b[0m in \u001b[0;36manswer\u001b[0;34m(self, snapshot, reference_snapshot, include_one_table_keys, background)\u001b[0m\n\u001b[1;32m    160\u001b[0m                               \u001b[0mbackground\u001b[0m\u001b[0;34m=\u001b[0m\u001b[0mbackground\u001b[0m\u001b[0;34m,\u001b[0m\u001b[0;34m\u001b[0m\u001b[0m\n\u001b[1;32m    161\u001b[0m                               \u001b[0msnapshot\u001b[0m\u001b[0;34m=\u001b[0m\u001b[0msnapshot\u001b[0m\u001b[0;34m,\u001b[0m\u001b[0;34m\u001b[0m\u001b[0m\n\u001b[0;32m--> 162\u001b[0;31m                               reference_snapshot=reference_snapshot)\n\u001b[0m\u001b[1;32m    163\u001b[0m \u001b[0;34m\u001b[0m\u001b[0m\n\u001b[1;32m    164\u001b[0m     \u001b[0;32mdef\u001b[0m \u001b[0mdict\u001b[0m\u001b[0;34m(\u001b[0m\u001b[0mself\u001b[0m\u001b[0;34m)\u001b[0m\u001b[0;34m:\u001b[0m\u001b[0;34m\u001b[0m\u001b[0m\n",
      "\u001b[0;32m~/Library/Python/3.7/lib/python/site-packages/pybatfish/client/commands.py\u001b[0m in \u001b[0;36m_bf_answer_obj\u001b[0;34m(question_str, parameters_str, question_name, background, snapshot, reference_snapshot)\u001b[0m\n\u001b[1;32m    180\u001b[0m     work_item = workhelper.get_workitem_answer(bf_session, question_name,\n\u001b[1;32m    181\u001b[0m                                                snapshot, reference_snapshot)\n\u001b[0;32m--> 182\u001b[0;31m     \u001b[0mworkhelper\u001b[0m\u001b[0;34m.\u001b[0m\u001b[0mexecute\u001b[0m\u001b[0;34m(\u001b[0m\u001b[0mwork_item\u001b[0m\u001b[0;34m,\u001b[0m \u001b[0mbf_session\u001b[0m\u001b[0;34m,\u001b[0m \u001b[0mbackground\u001b[0m\u001b[0;34m)\u001b[0m\u001b[0;34m\u001b[0m\u001b[0m\n\u001b[0m\u001b[1;32m    183\u001b[0m \u001b[0;34m\u001b[0m\u001b[0m\n\u001b[1;32m    184\u001b[0m     \u001b[0;32mif\u001b[0m \u001b[0mbackground\u001b[0m\u001b[0;34m:\u001b[0m\u001b[0;34m\u001b[0m\u001b[0m\n",
      "\u001b[0;32m~/Library/Python/3.7/lib/python/site-packages/pybatfish/client/workhelper.py\u001b[0m in \u001b[0;36mexecute\u001b[0;34m(work_item, session, background)\u001b[0m\n\u001b[1;32m     94\u001b[0m     \u001b[0;31m# Submit the work item\u001b[0m\u001b[0;34m\u001b[0m\u001b[0;34m\u001b[0m\u001b[0m\n\u001b[1;32m     95\u001b[0m     response = resthelper.get_json_response(\n\u001b[0;32m---> 96\u001b[0;31m         session, CoordConsts.SVC_RSC_QUEUE_WORK, json_data)\n\u001b[0m\u001b[1;32m     97\u001b[0m \u001b[0;34m\u001b[0m\u001b[0m\n\u001b[1;32m     98\u001b[0m     \u001b[0;32mif\u001b[0m \u001b[0mbackground\u001b[0m\u001b[0;34m:\u001b[0m\u001b[0;34m\u001b[0m\u001b[0m\n",
      "\u001b[0;32m~/Library/Python/3.7/lib/python/site-packages/pybatfish/client/resthelper.py\u001b[0m in \u001b[0;36mget_json_response\u001b[0;34m(session, resource, jsonData, useHttpGet)\u001b[0m\n\u001b[1;32m    102\u001b[0m     \u001b[0;32mif\u001b[0m \u001b[0mjson_response\u001b[0m\u001b[0;34m[\u001b[0m\u001b[0;36m0\u001b[0m\u001b[0;34m]\u001b[0m \u001b[0;34m!=\u001b[0m \u001b[0mCoordConsts\u001b[0m\u001b[0;34m.\u001b[0m\u001b[0mSVC_KEY_SUCCESS\u001b[0m\u001b[0;34m:\u001b[0m\u001b[0;34m\u001b[0m\u001b[0m\n\u001b[1;32m    103\u001b[0m         raise BatfishException(\n\u001b[0;32m--> 104\u001b[0;31m             \"Coordinator returned failure: {}\".format(json_response[1]))\n\u001b[0m\u001b[1;32m    105\u001b[0m \u001b[0;34m\u001b[0m\u001b[0m\n\u001b[1;32m    106\u001b[0m     \u001b[0;32mreturn\u001b[0m \u001b[0mdict\u001b[0m\u001b[0;34m(\u001b[0m\u001b[0mjson_response\u001b[0m\u001b[0;34m[\u001b[0m\u001b[0;36m1\u001b[0m\u001b[0;34m]\u001b[0m\u001b[0;34m)\u001b[0m\u001b[0;34m\u001b[0m\u001b[0m\n",
      "\u001b[0;31mBatfishException\u001b[0m: Coordinator returned failure: Failed to queue work: Cannot queue parsing dependent work for 34a5fe56-1af6-4074-9a61-82eac77f060e: Status is PARSING_FAIL but no incomplete parsing work exists"
     ]
    }
   ],
   "source": [
    "ip_owners_ans = bfq.ipOwners().answer()\n",
    "ip_owners_ans.frame()"
   ]
  },
  {
   "cell_type": "code",
   "execution_count": null,
   "metadata": {},
   "outputs": [],
   "source": []
  }
 ],
 "metadata": {
  "kernelspec": {
   "display_name": "Python 3",
   "language": "python",
   "name": "python3"
  },
  "language_info": {
   "codemirror_mode": {
    "name": "ipython",
    "version": 3
   },
   "file_extension": ".py",
   "mimetype": "text/x-python",
   "name": "python",
   "nbconvert_exporter": "python",
   "pygments_lexer": "ipython3",
   "version": "3.7.0"
  }
 },
 "nbformat": 4,
 "nbformat_minor": 2
}
